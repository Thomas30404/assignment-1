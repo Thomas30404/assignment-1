{
  "nbformat": 4,
  "nbformat_minor": 0,
  "metadata": {
    "colab": {
      "provenance": []
    },
    "kernelspec": {
      "name": "python3",
      "display_name": "Python 3"
    },
    "language_info": {
      "name": "python"
    },
    "accelerator": "GPU"
  },
  "cells": [
    {
      "cell_type": "markdown",
      "source": [
        "# Linear Regression - Uni-Variable\n",
        "\n",
        "You will implement linear regression with one variable to predict profits for a donut outlet. Suppose you are the CEO of a donut franchise and are considering different cities for opening a new outlet. The chain already has outlets in various cities and you have data for profits and populations from these cities.\n",
        "\n",
        "You would like to use this data to help you select which city to expand to next.\n",
        "\n",
        "The file ‘univariate.txt’ contains the dataset for your linear regression problem. The first column is the population of a city and the second column is the profit of a donut outlet in that city. A negative value for profit indicates a loss.\n"
      ],
      "metadata": {
        "id": "vuViJ0_RSNsc"
      }
    },
    {
      "cell_type": "markdown",
      "source": [
        "## Setup"
      ],
      "metadata": {
        "id": "xC983CpUR3iL"
      }
    },
    {
      "cell_type": "markdown",
      "source": [
        "Set directory path"
      ],
      "metadata": {
        "id": "GE76D2U9R8f7"
      }
    },
    {
      "cell_type": "code",
      "source": [
        "import os\n",
        "from google.colab import drive\n",
        "drive.mount('/content/drive')\n",
        "# change directory\n",
        "os.chdir('/content/drive/My Drive/EM0007/1. Supervised/1. Regression/Assignment 1/uni')\n",
        "!ls"
      ],
      "metadata": {
        "id": "gBb9-tEyYWQc",
        "colab": {
          "base_uri": "https://localhost:8080/"
        },
        "outputId": "a774f15f-70a9-4f4b-cce3-f80f14c02187"
      },
      "execution_count": null,
      "outputs": [
        {
          "output_type": "stream",
          "name": "stdout",
          "text": [
            "Mounted at /content/drive\n",
            "data  test_donut_with_predictions.xlsx\tunivariate.ipynb  univariate.txt\n"
          ]
        }
      ]
    },
    {
      "cell_type": "markdown",
      "source": [
        "Import required libraries"
      ],
      "metadata": {
        "id": "5-YzPvLaSArT"
      }
    },
    {
      "cell_type": "code",
      "source": [
        "import numpy as np\n",
        "import pandas as pd\n",
        "import tensorflow as tf\n",
        "import matplotlib.pyplot as plt\n",
        "from sklearn.model_selection import train_test_split\n",
        "from tensorflow.keras.models import Sequential\n",
        "from tensorflow.keras.layers import Dense\n",
        "from tensorflow.keras.optimizers import SGD\n",
        "\n",
        "np.random.seed(42)\n",
        "tf.random.set_seed(42)"
      ],
      "metadata": {
        "id": "BwC_q6xsYYnI"
      },
      "execution_count": null,
      "outputs": []
    },
    {
      "cell_type": "code",
      "source": [
        "print(tf.__version__)"
      ],
      "metadata": {
        "colab": {
          "base_uri": "https://localhost:8080/"
        },
        "id": "W9WDu2PBuSHb",
        "outputId": "bbe042c8-29fb-4c23-a9f0-0aa5b575c9a7"
      },
      "execution_count": null,
      "outputs": [
        {
          "output_type": "stream",
          "name": "stdout",
          "text": [
            "2.15.0\n"
          ]
        }
      ]
    },
    {
      "cell_type": "markdown",
      "source": [
        "## Prepare the Data"
      ],
      "metadata": {
        "id": "f-DT6_5Sux9p"
      }
    },
    {
      "cell_type": "code",
      "source": [
        "dataframe = pd.read_csv('./data/univariate data.csv', index_col=None)\n",
        "# check the data frame info\n",
        "print(dataframe.info())"
      ],
      "metadata": {
        "id": "gDbN5i60YjfH",
        "colab": {
          "base_uri": "https://localhost:8080/"
        },
        "outputId": "e02a2e59-b2a8-447a-b5fe-3045bb37f526"
      },
      "execution_count": null,
      "outputs": [
        {
          "output_type": "stream",
          "name": "stdout",
          "text": [
            "<class 'pandas.core.frame.DataFrame'>\n",
            "RangeIndex: 97 entries, 0 to 96\n",
            "Data columns (total 2 columns):\n",
            " #   Column      Non-Null Count  Dtype  \n",
            "---  ------      --------------  -----  \n",
            " 0   Population  97 non-null     float64\n",
            " 1   Profit      97 non-null     float64\n",
            "dtypes: float64(2)\n",
            "memory usage: 1.6 KB\n",
            "None\n"
          ]
        }
      ]
    },
    {
      "cell_type": "markdown",
      "source": [
        "## Plot the Data"
      ],
      "metadata": {
        "id": "OA4rSl74TGz8"
      }
    },
    {
      "cell_type": "code",
      "source": [
        "# Assuming your DataFrame is named 'dataframe'\n",
        "x = dataframe['Population']\n",
        "y = dataframe['Profit']\n",
        "\n",
        "# Create scatter plot\n",
        "plt.scatter(x, y)\n",
        "\n",
        "# Calculate the coefficients of the best fit line\n",
        "m, b = np.polyfit(x, y, 1)\n",
        "\n",
        "# Add the best fit line to the scatter plot\n",
        "plt.plot(x, m*x + b, color='red')  # You can change the color if needed\n",
        "\n",
        "# Adding title and labels\n",
        "plt.title('Profit vs Population with Best Fit Line')\n",
        "plt.xlabel('Population')\n",
        "plt.ylabel('Profit')\n",
        "\n",
        "# Displaying the equation on the plot\n",
        "equation = f'y = {m:.2f}x + {b:.2f}'\n",
        "plt.text(min(x), max(y), equation, fontsize=12, color='red')\n",
        "\n",
        "# Showing the plot\n",
        "plt.show()"
      ],
      "metadata": {
        "id": "t9-IBaBLYkCT",
        "colab": {
          "base_uri": "https://localhost:8080/",
          "height": 472
        },
        "outputId": "588cd4d8-8038-44ed-c3a3-c2cefad2c73b"
      },
      "execution_count": null,
      "outputs": [
        {
          "output_type": "display_data",
          "data": {
            "text/plain": [
              "<Figure size 640x480 with 1 Axes>"
            ],
            "image/png": "[encoded data removed]"
          },
          "metadata": {}
        }
      ]
    },
    {
      "cell_type": "markdown",
      "source": [
        "## Process the Data"
      ],
      "metadata": {
        "id": "hiGpMeaUae8d"
      }
    },
    {
      "cell_type": "code",
      "source": [
        "X = dataframe[['Population']].values\n",
        "y = dataframe['Profit'].values\n",
        "\n",
        "# Split the data into training and testing sets\n",
        "X_train, X_test, y_train, y_test = train_test_split(X, y, test_size=0.2, random_state=42)"
      ],
      "metadata": {
        "id": "1HWK_K-sYkmG"
      },
      "execution_count": null,
      "outputs": []
    },
    {
      "cell_type": "markdown",
      "source": [
        "## Feature Normalization\n",
        "\n",
        "To make sure features are on a similar scale:\n",
        "\n",
        "$x_i = \\frac{x_i - \\mu_i}{\\sigma_i}$"
      ],
      "metadata": {
        "id": "utb3uR1IZO1D"
      }
    },
    {
      "cell_type": "code",
      "source": [
        "def featureNormalization(X):\n",
        "    \"\"\"\n",
        "    Take in numpy array of X values and return normalize X values,\n",
        "    the mean and standard deviation of each feature\n",
        "    \"\"\"\n",
        "    mean = np.mean(X, axis=0)\n",
        "    std = np.std(X, axis=0)\n",
        "    X_norm = (X - mean) / std\n",
        "    return X_norm, mean, std"
      ],
      "metadata": {
        "id": "vMcxx5geZTDi"
      },
      "execution_count": null,
      "outputs": []
    },
    {
      "cell_type": "markdown",
      "source": [
        "## Build the Model"
      ],
      "metadata": {
        "id": "l7zupIUCt87p"
      }
    },
    {
      "cell_type": "code",
      "source": [
        "# Define model architecture\n",
        "model = Sequential()\n",
        "model.add(Dense(1, input_shape=[1]))\n",
        "\n",
        "# Compile the model\n",
        "model.compile(optimizer=SGD(learning_rate=0.01), loss='mse')\n",
        "\n",
        "# Apply feature normalization to the training data\n",
        "X_train_norm, mean, std = featureNormalization(X_train)\n"
      ],
      "metadata": {
        "id": "AmURYaRcYxCP"
      },
      "execution_count": null,
      "outputs": []
    },
    {
      "cell_type": "markdown",
      "source": [
        "## Train the Model"
      ],
      "metadata": {
        "id": "zKlvTnhpuK6v"
      }
    },
    {
      "cell_type": "code",
      "source": [
        "# Train model for 200 epochs\n",
        "history = model.fit(X_train_norm, y_train, epochs=200)\n"
      ],
      "metadata": {
        "id": "a1J_1p0WuM1B",
        "colab": {
          "base_uri": "https://localhost:8080/"
        },
        "outputId": "303ed359-1d38-4e40-f237-ab897b3b128d"
      },
      "execution_count": null,
      "outputs": [
        {
          "output_type": "stream",
          "name": "stdout",
          "text": [
            "Epoch 1/200\n",
            "3/3 [==============================] - 2s 9ms/step - loss: 63.8718\n",
            "Epoch 2/200\n",
            "3/3 [==============================] - 0s 4ms/step - loss: 57.7699\n",
            "Epoch 3/200\n",
            "3/3 [==============================] - 0s 4ms/step - loss: 52.2417\n",
            "Epoch 4/200\n",
            "3/3 [==============================] - 0s 4ms/step - loss: 47.1956\n",
            "Epoch 5/200\n",
            "3/3 [==============================] - 0s 4ms/step - loss: 42.9345\n",
            "Epoch 6/200\n",
            "3/3 [==============================] - 0s 4ms/step - loss: 38.2494\n",
            "Epoch 7/200\n",
            "3/3 [==============================] - 0s 4ms/step - loss: 34.9481\n",
            "Epoch 8/200\n",
            "3/3 [==============================] - 0s 4ms/step - loss: 31.5474\n",
            "Epoch 9/200\n",
            "3/3 [==============================] - 0s 7ms/step - loss: 28.7251\n",
            "Epoch 10/200\n",
            "3/3 [==============================] - 0s 4ms/step - loss: 26.3668\n",
            "Epoch 11/200\n",
            "3/3 [==============================] - 0s 4ms/step - loss: 23.8861\n",
            "Epoch 12/200\n",
            "3/3 [==============================] - 0s 4ms/step - loss: 22.1887\n",
            "Epoch 13/200\n",
            "3/3 [==============================] - 0s 5ms/step - loss: 20.6955\n",
            "Epoch 14/200\n",
            "3/3 [==============================] - 0s 8ms/step - loss: 19.2925\n",
            "Epoch 15/200\n",
            "3/3 [==============================] - 0s 4ms/step - loss: 17.9509\n",
            "Epoch 16/200\n",
            "3/3 [==============================] - 0s 3ms/step - loss: 16.6830\n",
            "Epoch 17/200\n",
            "3/3 [==============================] - 0s 4ms/step - loss: 15.6365\n",
            "Epoch 18/200\n",
            "3/3 [==============================] - 0s 4ms/step - loss: 14.7058\n",
            "Epoch 19/200\n",
            "3/3 [==============================] - 0s 4ms/step - loss: 13.9047\n",
            "Epoch 20/200\n",
            "3/3 [==============================] - 0s 4ms/step - loss: 13.0208\n",
            "Epoch 21/200\n",
            "3/3 [==============================] - 0s 4ms/step - loss: 12.1716\n",
            "Epoch 22/200\n",
            "3/3 [==============================] - 0s 4ms/step - loss: 11.6170\n",
            "Epoch 23/200\n",
            "3/3 [==============================] - 0s 4ms/step - loss: 11.0594\n",
            "Epoch 24/200\n",
            "3/3 [==============================] - 0s 4ms/step - loss: 10.6311\n",
            "Epoch 25/200\n",
            "3/3 [==============================] - 0s 4ms/step - loss: 10.1914\n",
            "Epoch 26/200\n",
            "3/3 [==============================] - 0s 4ms/step - loss: 9.9044\n",
            "Epoch 27/200\n",
            "3/3 [==============================] - 0s 4ms/step - loss: 9.6491\n",
            "Epoch 28/200\n",
            "3/3 [==============================] - 0s 5ms/step - loss: 9.4394\n",
            "Epoch 29/200\n",
            "3/3 [==============================] - 0s 5ms/step - loss: 9.1752\n",
            "Epoch 30/200\n",
            "3/3 [==============================] - 0s 4ms/step - loss: 8.9463\n",
            "Epoch 31/200\n",
            "3/3 [==============================] - 0s 4ms/step - loss: 8.7454\n",
            "Epoch 32/200\n",
            "3/3 [==============================] - 0s 5ms/step - loss: 8.5715\n",
            "Epoch 33/200\n",
            "3/3 [==============================] - 0s 4ms/step - loss: 8.4486\n",
            "Epoch 34/200\n",
            "3/3 [==============================] - 0s 5ms/step - loss: 8.3319\n",
            "Epoch 35/200\n",
            "3/3 [==============================] - 0s 4ms/step - loss: 8.2318\n",
            "Epoch 36/200\n",
            "3/3 [==============================] - 0s 6ms/step - loss: 8.0998\n",
            "Epoch 37/200\n",
            "3/3 [==============================] - 0s 5ms/step - loss: 8.0046\n",
            "Epoch 38/200\n",
            "3/3 [==============================] - 0s 4ms/step - loss: 7.9513\n",
            "Epoch 39/200\n",
            "3/3 [==============================] - 0s 4ms/step - loss: 7.8810\n",
            "Epoch 40/200\n",
            "3/3 [==============================] - 0s 4ms/step - loss: 7.8128\n",
            "Epoch 41/200\n",
            "3/3 [==============================] - 0s 4ms/step - loss: 7.7685\n",
            "Epoch 42/200\n",
            "3/3 [==============================] - 0s 4ms/step - loss: 7.7116\n",
            "Epoch 43/200\n",
            "3/3 [==============================] - 0s 4ms/step - loss: 7.6586\n",
            "Epoch 44/200\n",
            "3/3 [==============================] - 0s 4ms/step - loss: 7.6294\n",
            "Epoch 45/200\n",
            "3/3 [==============================] - 0s 4ms/step - loss: 7.6031\n",
            "Epoch 46/200\n",
            "3/3 [==============================] - 0s 4ms/step - loss: 7.5825\n",
            "Epoch 47/200\n",
            "3/3 [==============================] - 0s 5ms/step - loss: 7.5568\n",
            "Epoch 48/200\n",
            "3/3 [==============================] - 0s 4ms/step - loss: 7.5282\n",
            "Epoch 49/200\n",
            "3/3 [==============================] - 0s 4ms/step - loss: 7.5013\n",
            "Epoch 50/200\n",
            "3/3 [==============================] - 0s 4ms/step - loss: 7.4848\n",
            "Epoch 51/200\n",
            "3/3 [==============================] - 0s 4ms/step - loss: 7.4724\n",
            "Epoch 52/200\n",
            "3/3 [==============================] - 0s 8ms/step - loss: 7.4579\n",
            "Epoch 53/200\n",
            "3/3 [==============================] - 0s 6ms/step - loss: 7.4386\n",
            "Epoch 54/200\n",
            "3/3 [==============================] - 0s 7ms/step - loss: 7.4364\n",
            "Epoch 55/200\n",
            "3/3 [==============================] - 0s 4ms/step - loss: 7.4311\n",
            "Epoch 56/200\n",
            "3/3 [==============================] - 0s 5ms/step - loss: 7.4279\n",
            "Epoch 57/200\n",
            "3/3 [==============================] - 0s 5ms/step - loss: 7.4080\n",
            "Epoch 58/200\n",
            "3/3 [==============================] - 0s 8ms/step - loss: 7.4134\n",
            "Epoch 59/200\n",
            "3/3 [==============================] - 0s 7ms/step - loss: 7.4039\n",
            "Epoch 60/200\n",
            "3/3 [==============================] - 0s 6ms/step - loss: 7.4019\n",
            "Epoch 61/200\n",
            "3/3 [==============================] - 0s 5ms/step - loss: 7.3978\n",
            "Epoch 62/200\n",
            "3/3 [==============================] - 0s 4ms/step - loss: 7.3949\n",
            "Epoch 63/200\n",
            "3/3 [==============================] - 0s 5ms/step - loss: 7.3989\n",
            "Epoch 64/200\n",
            "3/3 [==============================] - 0s 5ms/step - loss: 7.3965\n",
            "Epoch 65/200\n",
            "3/3 [==============================] - 0s 4ms/step - loss: 7.3973\n",
            "Epoch 66/200\n",
            "3/3 [==============================] - 0s 4ms/step - loss: 7.3960\n",
            "Epoch 67/200\n",
            "3/3 [==============================] - 0s 6ms/step - loss: 7.3909\n",
            "Epoch 68/200\n",
            "3/3 [==============================] - 0s 4ms/step - loss: 7.3888\n",
            "Epoch 69/200\n",
            "3/3 [==============================] - 0s 5ms/step - loss: 7.4023\n",
            "Epoch 70/200\n",
            "3/3 [==============================] - 0s 4ms/step - loss: 7.3855\n",
            "Epoch 71/200\n",
            "3/3 [==============================] - 0s 4ms/step - loss: 7.3846\n",
            "Epoch 72/200\n",
            "3/3 [==============================] - 0s 5ms/step - loss: 7.3817\n",
            "Epoch 73/200\n",
            "3/3 [==============================] - 0s 4ms/step - loss: 7.3812\n",
            "Epoch 74/200\n",
            "3/3 [==============================] - 0s 4ms/step - loss: 7.3810\n",
            "Epoch 75/200\n",
            "3/3 [==============================] - 0s 4ms/step - loss: 7.3812\n",
            "Epoch 76/200\n",
            "3/3 [==============================] - 0s 4ms/step - loss: 7.3834\n",
            "Epoch 77/200\n",
            "3/3 [==============================] - 0s 4ms/step - loss: 7.3821\n",
            "Epoch 78/200\n",
            "3/3 [==============================] - 0s 7ms/step - loss: 7.3781\n",
            "Epoch 79/200\n",
            "3/3 [==============================] - 0s 4ms/step - loss: 7.3795\n",
            "Epoch 80/200\n",
            "3/3 [==============================] - 0s 4ms/step - loss: 7.3821\n",
            "Epoch 81/200\n",
            "3/3 [==============================] - 0s 4ms/step - loss: 7.3767\n",
            "Epoch 82/200\n",
            "3/3 [==============================] - 0s 5ms/step - loss: 7.3762\n",
            "Epoch 83/200\n",
            "3/3 [==============================] - 0s 8ms/step - loss: 7.3788\n",
            "Epoch 84/200\n",
            "3/3 [==============================] - 0s 4ms/step - loss: 7.3806\n",
            "Epoch 85/200\n",
            "3/3 [==============================] - 0s 5ms/step - loss: 7.3842\n",
            "Epoch 86/200\n",
            "3/3 [==============================] - 0s 4ms/step - loss: 7.3841\n",
            "Epoch 87/200\n",
            "3/3 [==============================] - 0s 4ms/step - loss: 7.3818\n",
            "Epoch 88/200\n",
            "3/3 [==============================] - 0s 4ms/step - loss: 7.3809\n",
            "Epoch 89/200\n",
            "3/3 [==============================] - 0s 4ms/step - loss: 7.3777\n",
            "Epoch 90/200\n",
            "3/3 [==============================] - 0s 4ms/step - loss: 7.3767\n",
            "Epoch 91/200\n",
            "3/3 [==============================] - 0s 4ms/step - loss: 7.3778\n",
            "Epoch 92/200\n",
            "3/3 [==============================] - 0s 4ms/step - loss: 7.3796\n",
            "Epoch 93/200\n",
            "3/3 [==============================] - 0s 4ms/step - loss: 7.3751\n",
            "Epoch 94/200\n",
            "3/3 [==============================] - 0s 4ms/step - loss: 7.3763\n",
            "Epoch 95/200\n",
            "3/3 [==============================] - 0s 4ms/step - loss: 7.3809\n",
            "Epoch 96/200\n",
            "3/3 [==============================] - 0s 5ms/step - loss: 7.3738\n",
            "Epoch 97/200\n",
            "3/3 [==============================] - 0s 4ms/step - loss: 7.3814\n",
            "Epoch 98/200\n",
            "3/3 [==============================] - 0s 4ms/step - loss: 7.3743\n",
            "Epoch 99/200\n",
            "3/3 [==============================] - 0s 4ms/step - loss: 7.3734\n",
            "Epoch 100/200\n",
            "3/3 [==============================] - 0s 4ms/step - loss: 7.3841\n",
            "Epoch 101/200\n",
            "3/3 [==============================] - 0s 4ms/step - loss: 7.3757\n",
            "Epoch 102/200\n",
            "3/3 [==============================] - 0s 4ms/step - loss: 7.3748\n",
            "Epoch 103/200\n",
            "3/3 [==============================] - 0s 4ms/step - loss: 7.3736\n",
            "Epoch 104/200\n",
            "3/3 [==============================] - 0s 6ms/step - loss: 7.3735\n",
            "Epoch 105/200\n",
            "3/3 [==============================] - 0s 4ms/step - loss: 7.3742\n",
            "Epoch 106/200\n",
            "3/3 [==============================] - 0s 4ms/step - loss: 7.3739\n",
            "Epoch 107/200\n",
            "3/3 [==============================] - 0s 7ms/step - loss: 7.3744\n",
            "Epoch 108/200\n",
            "3/3 [==============================] - 0s 4ms/step - loss: 7.3746\n",
            "Epoch 109/200\n",
            "3/3 [==============================] - 0s 4ms/step - loss: 7.3742\n",
            "Epoch 110/200\n",
            "3/3 [==============================] - 0s 4ms/step - loss: 7.3789\n",
            "Epoch 111/200\n",
            "3/3 [==============================] - 0s 4ms/step - loss: 7.3770\n",
            "Epoch 112/200\n",
            "3/3 [==============================] - 0s 5ms/step - loss: 7.3751\n",
            "Epoch 113/200\n",
            "3/3 [==============================] - 0s 4ms/step - loss: 7.3785\n",
            "Epoch 114/200\n",
            "3/3 [==============================] - 0s 4ms/step - loss: 7.3863\n",
            "Epoch 115/200\n",
            "3/3 [==============================] - 0s 7ms/step - loss: 7.3763\n",
            "Epoch 116/200\n",
            "3/3 [==============================] - 0s 4ms/step - loss: 7.3789\n",
            "Epoch 117/200\n",
            "3/3 [==============================] - 0s 6ms/step - loss: 7.3735\n",
            "Epoch 118/200\n",
            "3/3 [==============================] - 0s 6ms/step - loss: 7.3741\n",
            "Epoch 119/200\n",
            "3/3 [==============================] - 0s 5ms/step - loss: 7.3744\n",
            "Epoch 120/200\n",
            "3/3 [==============================] - 0s 5ms/step - loss: 7.3793\n",
            "Epoch 121/200\n",
            "3/3 [==============================] - 0s 6ms/step - loss: 7.3779\n",
            "Epoch 122/200\n",
            "3/3 [==============================] - 0s 6ms/step - loss: 7.3732\n",
            "Epoch 123/200\n",
            "3/3 [==============================] - 0s 7ms/step - loss: 7.3753\n",
            "Epoch 124/200\n",
            "3/3 [==============================] - 0s 6ms/step - loss: 7.3770\n",
            "Epoch 125/200\n",
            "3/3 [==============================] - 0s 5ms/step - loss: 7.3772\n",
            "Epoch 126/200\n",
            "3/3 [==============================] - 0s 4ms/step - loss: 7.3924\n",
            "Epoch 127/200\n",
            "3/3 [==============================] - 0s 4ms/step - loss: 7.3754\n",
            "Epoch 128/200\n",
            "3/3 [==============================] - 0s 5ms/step - loss: 7.3786\n",
            "Epoch 129/200\n",
            "3/3 [==============================] - 0s 4ms/step - loss: 7.3746\n",
            "Epoch 130/200\n",
            "3/3 [==============================] - 0s 4ms/step - loss: 7.3743\n",
            "Epoch 131/200\n",
            "3/3 [==============================] - 0s 4ms/step - loss: 7.3741\n",
            "Epoch 132/200\n",
            "3/3 [==============================] - 0s 4ms/step - loss: 7.3737\n",
            "Epoch 133/200\n",
            "3/3 [==============================] - 0s 5ms/step - loss: 7.3747\n",
            "Epoch 134/200\n",
            "3/3 [==============================] - 0s 4ms/step - loss: 7.3742\n",
            "Epoch 135/200\n",
            "3/3 [==============================] - 0s 4ms/step - loss: 7.3801\n",
            "Epoch 136/200\n",
            "3/3 [==============================] - 0s 5ms/step - loss: 7.3730\n",
            "Epoch 137/200\n",
            "3/3 [==============================] - 0s 5ms/step - loss: 7.3729\n",
            "Epoch 138/200\n",
            "3/3 [==============================] - 0s 4ms/step - loss: 7.3750\n",
            "Epoch 139/200\n",
            "3/3 [==============================] - 0s 4ms/step - loss: 7.3726\n",
            "Epoch 140/200\n",
            "3/3 [==============================] - 0s 4ms/step - loss: 7.3781\n",
            "Epoch 141/200\n",
            "3/3 [==============================] - 0s 4ms/step - loss: 7.3754\n",
            "Epoch 142/200\n",
            "3/3 [==============================] - 0s 4ms/step - loss: 7.3749\n",
            "Epoch 143/200\n",
            "3/3 [==============================] - 0s 4ms/step - loss: 7.3729\n",
            "Epoch 144/200\n",
            "3/3 [==============================] - 0s 4ms/step - loss: 7.3754\n",
            "Epoch 145/200\n",
            "3/3 [==============================] - 0s 4ms/step - loss: 7.3745\n",
            "Epoch 146/200\n",
            "3/3 [==============================] - 0s 4ms/step - loss: 7.3744\n",
            "Epoch 147/200\n",
            "3/3 [==============================] - 0s 4ms/step - loss: 7.3827\n",
            "Epoch 148/200\n",
            "3/3 [==============================] - 0s 6ms/step - loss: 7.3835\n",
            "Epoch 149/200\n",
            "3/3 [==============================] - 0s 6ms/step - loss: 7.3768\n",
            "Epoch 150/200\n",
            "3/3 [==============================] - 0s 5ms/step - loss: 7.3771\n",
            "Epoch 151/200\n",
            "3/3 [==============================] - 0s 8ms/step - loss: 7.3720\n",
            "Epoch 152/200\n",
            "3/3 [==============================] - 0s 6ms/step - loss: 7.3782\n",
            "Epoch 153/200\n",
            "3/3 [==============================] - 0s 5ms/step - loss: 7.3807\n",
            "Epoch 154/200\n",
            "3/3 [==============================] - 0s 4ms/step - loss: 7.3725\n",
            "Epoch 155/200\n",
            "3/3 [==============================] - 0s 4ms/step - loss: 7.3741\n",
            "Epoch 156/200\n",
            "3/3 [==============================] - 0s 4ms/step - loss: 7.3726\n",
            "Epoch 157/200\n",
            "3/3 [==============================] - 0s 4ms/step - loss: 7.3733\n",
            "Epoch 158/200\n",
            "3/3 [==============================] - 0s 4ms/step - loss: 7.3731\n",
            "Epoch 159/200\n",
            "3/3 [==============================] - 0s 4ms/step - loss: 7.3758\n",
            "Epoch 160/200\n",
            "3/3 [==============================] - 0s 4ms/step - loss: 7.3788\n",
            "Epoch 161/200\n",
            "3/3 [==============================] - 0s 4ms/step - loss: 7.3742\n",
            "Epoch 162/200\n",
            "3/3 [==============================] - 0s 6ms/step - loss: 7.3743\n",
            "Epoch 163/200\n",
            "3/3 [==============================] - 0s 4ms/step - loss: 7.3723\n",
            "Epoch 164/200\n",
            "3/3 [==============================] - 0s 4ms/step - loss: 7.3727\n",
            "Epoch 165/200\n",
            "3/3 [==============================] - 0s 5ms/step - loss: 7.3785\n",
            "Epoch 166/200\n",
            "3/3 [==============================] - 0s 5ms/step - loss: 7.3717\n",
            "Epoch 167/200\n",
            "3/3 [==============================] - 0s 4ms/step - loss: 7.3716\n",
            "Epoch 168/200\n",
            "3/3 [==============================] - 0s 5ms/step - loss: 7.3742\n",
            "Epoch 169/200\n",
            "3/3 [==============================] - 0s 4ms/step - loss: 7.3749\n",
            "Epoch 170/200\n",
            "3/3 [==============================] - 0s 4ms/step - loss: 7.3769\n",
            "Epoch 171/200\n",
            "3/3 [==============================] - 0s 4ms/step - loss: 7.3737\n",
            "Epoch 172/200\n",
            "3/3 [==============================] - 0s 4ms/step - loss: 7.3739\n",
            "Epoch 173/200\n",
            "3/3 [==============================] - 0s 4ms/step - loss: 7.3780\n",
            "Epoch 174/200\n",
            "3/3 [==============================] - 0s 5ms/step - loss: 7.3731\n",
            "Epoch 175/200\n",
            "3/3 [==============================] - 0s 5ms/step - loss: 7.3754\n",
            "Epoch 176/200\n",
            "3/3 [==============================] - 0s 6ms/step - loss: 7.3735\n",
            "Epoch 177/200\n",
            "3/3 [==============================] - 0s 4ms/step - loss: 7.3729\n",
            "Epoch 178/200\n",
            "3/3 [==============================] - 0s 5ms/step - loss: 7.3761\n",
            "Epoch 179/200\n",
            "3/3 [==============================] - 0s 5ms/step - loss: 7.3731\n",
            "Epoch 180/200\n",
            "3/3 [==============================] - 0s 5ms/step - loss: 7.3759\n",
            "Epoch 181/200\n",
            "3/3 [==============================] - 0s 5ms/step - loss: 7.3742\n",
            "Epoch 182/200\n",
            "3/3 [==============================] - 0s 5ms/step - loss: 7.3813\n",
            "Epoch 183/200\n",
            "3/3 [==============================] - 0s 5ms/step - loss: 7.3752\n",
            "Epoch 184/200\n",
            "3/3 [==============================] - 0s 4ms/step - loss: 7.3785\n",
            "Epoch 185/200\n",
            "3/3 [==============================] - 0s 4ms/step - loss: 7.3816\n",
            "Epoch 186/200\n",
            "3/3 [==============================] - 0s 4ms/step - loss: 7.3777\n",
            "Epoch 187/200\n",
            "3/3 [==============================] - 0s 4ms/step - loss: 7.3842\n",
            "Epoch 188/200\n",
            "3/3 [==============================] - 0s 7ms/step - loss: 7.3751\n",
            "Epoch 189/200\n",
            "3/3 [==============================] - 0s 6ms/step - loss: 7.3772\n",
            "Epoch 190/200\n",
            "3/3 [==============================] - 0s 6ms/step - loss: 7.3785\n",
            "Epoch 191/200\n",
            "3/3 [==============================] - 0s 5ms/step - loss: 7.3842\n",
            "Epoch 192/200\n",
            "3/3 [==============================] - 0s 7ms/step - loss: 7.3725\n",
            "Epoch 193/200\n",
            "3/3 [==============================] - 0s 4ms/step - loss: 7.3742\n",
            "Epoch 194/200\n",
            "3/3 [==============================] - 0s 4ms/step - loss: 7.3742\n",
            "Epoch 195/200\n",
            "3/3 [==============================] - 0s 4ms/step - loss: 7.3737\n",
            "Epoch 196/200\n",
            "3/3 [==============================] - 0s 6ms/step - loss: 7.3825\n",
            "Epoch 197/200\n",
            "3/3 [==============================] - 0s 5ms/step - loss: 7.3795\n",
            "Epoch 198/200\n",
            "3/3 [==============================] - 0s 4ms/step - loss: 7.3765\n",
            "Epoch 199/200\n",
            "3/3 [==============================] - 0s 5ms/step - loss: 7.3723\n",
            "Epoch 200/200\n",
            "3/3 [==============================] - 0s 6ms/step - loss: 7.3727\n"
          ]
        }
      ]
    },
    {
      "cell_type": "markdown",
      "source": [
        "Evaluate the Model"
      ],
      "metadata": {
        "id": "l9qluLVVAlBO"
      }
    },
    {
      "cell_type": "code",
      "source": [
        "# Evaluate the model on the test set\n",
        "X_test_norm = (X_test - mean) / std\n",
        "test_loss = model.evaluate(X_test_norm, y_test)\n"
      ],
      "metadata": {
        "colab": {
          "base_uri": "https://localhost:8080/"
        },
        "id": "YJ7tKmV8EwyY",
        "outputId": "b8ba8d08-fc4b-44e9-c1dc-25e4b411a503"
      },
      "execution_count": null,
      "outputs": [
        {
          "output_type": "stream",
          "name": "stdout",
          "text": [
            "1/1 [==============================] - 0s 96ms/step - loss: 15.7061\n"
          ]
        }
      ]
    },
    {
      "cell_type": "code",
      "source": [
        "# Plot the training loss\n",
        "plt.plot(history.history['loss'], label='Training Loss')\n",
        "plt.title('Model Loss Over Epochs')\n",
        "plt.ylabel('Loss')\n",
        "plt.xlabel('Epoch')\n",
        "plt.legend()\n",
        "plt.show()"
      ],
      "metadata": {
        "id": "t_H9N1Cybxbi",
        "colab": {
          "base_uri": "https://localhost:8080/",
          "height": 472
        },
        "outputId": "51c2b9a2-e142-41a8-fec3-dd0f9d99c836"
      },
      "execution_count": null,
      "outputs": [
        {
          "output_type": "display_data",
          "data": {
            "text/plain": [
              "<Figure size 640x480 with 1 Axes>"
            ],
            "image/png": "[encoded data removed]"
          },
          "metadata": {}
        }
      ]
    },
    {
      "cell_type": "markdown",
      "source": [
        "## Predict"
      ],
      "metadata": {
        "id": "jY0ttiD4y2ox"
      }
    },
    {
      "cell_type": "code",
      "source": [
        "# Load the new Excel dataset\n",
        "new_data = pd.read_excel('/content/drive/My Drive/EM0007/1. Supervised/1. Regression/Assignment 1/uni/data/test donut.xlsx')\n",
        "\n",
        "new_population = new_data['Population'].values\n",
        "\n",
        "# Apply feature normalization using the same mean and std from training data\n",
        "new_population_norm = (new_population - mean) / std\n",
        "\n",
        "# Using the trained model to make predictions\n",
        "predicted_profits = model.predict(new_population_norm)\n",
        "\n",
        "# Create a new column in the new dataset to store the predictions\n",
        "new_data['Predicted_Profit'] = predicted_profits\n",
        "\n",
        "# Display the dataset with predicted profits\n",
        "print(new_data)\n",
        "\n",
        "#Save the updated dataset back to Excel\n",
        "new_data.to_excel('/content/drive/My Drive/EM0007/1. Supervised/1. Regression/Assignment 1/uni/data/test_donut_with_predictions.xlsx', index=False)\n"
      ],
      "metadata": {
        "id": "DaD03S0fZHTr",
        "colab": {
          "base_uri": "https://localhost:8080/"
        },
        "outputId": "40043530-711d-4969-d8ca-3bd4b540d2e6"
      },
      "execution_count": null,
      "outputs": [
        {
          "output_type": "stream",
          "name": "stdout",
          "text": [
            "1/1 [==============================] - 0s 68ms/step\n",
            "   Population  Predicted_Profit\n",
            "0           2         -2.157805\n",
            "1           3         -0.870640\n",
            "2           4          0.416525\n",
            "3           5          1.703691\n",
            "4           6          2.990856\n",
            "5           7          4.278021\n",
            "6           8          5.565186\n",
            "7           9          6.852351\n",
            "8          10          8.139516\n"
          ]
        }
      ]
    },
    {
      "cell_type": "markdown",
      "source": [
        "## Save the Model"
      ],
      "metadata": {
        "id": "BD4OajSVyip-"
      }
    },
    {
      "cell_type": "code",
      "source": [
        "model.save('./donut_model')"
      ],
      "metadata": {
        "id": "UgVi-JvoZHxr"
      },
      "execution_count": null,
      "outputs": []
    }
  ]
}