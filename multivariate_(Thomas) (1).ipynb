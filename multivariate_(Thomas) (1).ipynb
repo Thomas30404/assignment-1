{
  "nbformat": 4,
  "nbformat_minor": 0,
  "metadata": {
    "colab": {
      "provenance": []
    },
    "kernelspec": {
      "name": "python3",
      "display_name": "Python 3"
    },
    "language_info": {
      "name": "python"
    },
    "accelerator": "GPU"
  },
  "cells": [
    {
      "cell_type": "markdown",
      "source": [
        "# Linear Regression - Multi-Variables\n",
        "\n",
        "You will implement linear regression with multiple variables to predict the prices of houses. Suppose you are selling your house and you want to know what a good market price would be. One way to do this is to first collect information on recent houses sold and make a model of housing prices.\n",
        "\n",
        "The file ‘multivariate.txt’ contains a training set of housing prices. The first column is the size of the house, the second column is the number of bedrooms and the third column is the price of the house."
      ],
      "metadata": {
        "id": "vuViJ0_RSNsc"
      }
    },
    {
      "cell_type": "markdown",
      "source": [
        "## Setup"
      ],
      "metadata": {
        "id": "xC983CpUR3iL"
      }
    },
    {
      "cell_type": "markdown",
      "source": [
        "Set directory path"
      ],
      "metadata": {
        "id": "GE76D2U9R8f7"
      }
    },
    {
      "cell_type": "code",
      "source": [
        "import os\n",
        "from google.colab import drive\n",
        "drive.mount('/content/drive')\n",
        "# change directory\n",
        "os.chdir('/content/drive/My Drive/EM0007/1. Supervised/1. Regression/Assignment 1/multi')\n",
        "!ls"
      ],
      "metadata": {
        "id": "gBb9-tEyYWQc",
        "colab": {
          "base_uri": "https://localhost:8080/"
        },
        "outputId": "78da2684-42ae-4281-82f2-6eaafb87a5e1"
      },
      "execution_count": 812,
      "outputs": [
        {
          "output_type": "stream",
          "name": "stdout",
          "text": [
            "Drive already mounted at /content/drive; to attempt to forcibly remount, call drive.mount(\"/content/drive\", force_remount=True).\n",
            " data   house_price_prediction_model.h5  'multivariate (Thomas).ipynb'\n"
          ]
        }
      ]
    },
    {
      "cell_type": "markdown",
      "source": [
        "Import required libraries"
      ],
      "metadata": {
        "id": "5-YzPvLaSArT"
      }
    },
    {
      "cell_type": "code",
      "source": [
        "import numpy as np\n",
        "import pandas as pd\n",
        "import tensorflow as tf\n",
        "from tensorflow import feature_column\n",
        "from tensorflow.keras import layers\n",
        "from sklearn.model_selection import train_test_split\n",
        "import matplotlib.pyplot as plt\n",
        "from tensorflow.keras import initializers\n",
        "from sklearn.preprocessing import StandardScaler\n",
        "from sklearn.model_selection import KFold"
      ],
      "metadata": {
        "id": "BwC_q6xsYYnI"
      },
      "execution_count": 813,
      "outputs": []
    },
    {
      "cell_type": "code",
      "source": [
        "print(tf.__version__)"
      ],
      "metadata": {
        "colab": {
          "base_uri": "https://localhost:8080/"
        },
        "id": "jF3FLfvZBFSn",
        "outputId": "d62698b4-bec9-460f-e0e8-7c9a77c46eda"
      },
      "execution_count": 814,
      "outputs": [
        {
          "output_type": "stream",
          "name": "stdout",
          "text": [
            "2.15.0\n"
          ]
        }
      ]
    },
    {
      "cell_type": "markdown",
      "source": [
        "## Prepare the Data"
      ],
      "metadata": {
        "id": "f-DT6_5Sux9p"
      }
    },
    {
      "cell_type": "code",
      "source": [
        "dataframe = pd.read_csv('./data/multivariate data.csv', index_col=None)\n",
        "# check the data frame info\n",
        "print(dataframe.info())\n",
        "# dataframe.head()"
      ],
      "metadata": {
        "id": "gDbN5i60YjfH",
        "colab": {
          "base_uri": "https://localhost:8080/"
        },
        "outputId": "f4365b43-128c-496a-d63f-d2f2d0f97262"
      },
      "execution_count": 815,
      "outputs": [
        {
          "output_type": "stream",
          "name": "stdout",
          "text": [
            "<class 'pandas.core.frame.DataFrame'>\n",
            "RangeIndex: 47 entries, 0 to 46\n",
            "Data columns (total 3 columns):\n",
            " #   Column           Non-Null Count  Dtype\n",
            "---  ------           --------------  -----\n",
            " 0   size             47 non-null     int64\n",
            " 1   no. of bedrooms  47 non-null     int64\n",
            " 2   price            47 non-null     int64\n",
            "dtypes: int64(3)\n",
            "memory usage: 1.2 KB\n",
            "None\n"
          ]
        }
      ]
    },
    {
      "cell_type": "code",
      "source": [
        "# Inspect the first few rows of the dataframe\n",
        "print(dataframe.head())"
      ],
      "metadata": {
        "colab": {
          "base_uri": "https://localhost:8080/"
        },
        "id": "OGpTJ76T4YjW",
        "outputId": "df5f809a-8e37-4c5e-bcd1-3f4c95eef20f"
      },
      "execution_count": 816,
      "outputs": [
        {
          "output_type": "stream",
          "name": "stdout",
          "text": [
            "   size  no. of bedrooms   price\n",
            "0  2104                3  399900\n",
            "1  1600                3  329900\n",
            "2  2400                3  369000\n",
            "3  1416                2  232000\n",
            "4  3000                4  539900\n"
          ]
        }
      ]
    },
    {
      "cell_type": "code",
      "source": [
        "dataframe.describe()"
      ],
      "metadata": {
        "colab": {
          "base_uri": "https://localhost:8080/",
          "height": 300
        },
        "id": "wUemdezqnXEj",
        "outputId": "83093424-2593-4a49-b8c1-c306658967fd"
      },
      "execution_count": 817,
      "outputs": [
        {
          "output_type": "execute_result",
          "data": {
            "text/plain": [
              "              size  no. of bedrooms          price\n",
              "count    47.000000        47.000000      47.000000\n",
              "mean   2000.680851         3.170213  340412.659574\n",
              "std     794.702354         0.760982  125039.899586\n",
              "min     852.000000         1.000000  169900.000000\n",
              "25%    1432.000000         3.000000  249900.000000\n",
              "50%    1888.000000         3.000000  299900.000000\n",
              "75%    2269.000000         4.000000  384450.000000\n",
              "max    4478.000000         5.000000  699900.000000"
            ],
            "text/html": [
              "\n",
              "  <div id=\"df-2aeff4d6-412e-415f-af21-df46c2851e8f\" class=\"colab-df-container\">\n",
              "    <div>\n",
              "<style scoped>\n",
              "    .dataframe tbody tr th:only-of-type {\n",
              "        vertical-align: middle;\n",
              "    }\n",
              "\n",
              "    .dataframe tbody tr th {\n",
              "        vertical-align: top;\n",
              "    }\n",
              "\n",
              "    .dataframe thead th {\n",
              "        text-align: right;\n",
              "    }\n",
              "</style>\n",
              "<table border=\"1\" class=\"dataframe\">\n",
              "  <thead>\n",
              "    <tr style=\"text-align: right;\">\n",
              "      <th></th>\n",
              "      <th>size</th>\n",
              "      <th>no. of bedrooms</th>\n",
              "      <th>price</th>\n",
              "    </tr>\n",
              "  </thead>\n",
              "  <tbody>\n",
              "    <tr>\n",
              "      <th>count</th>\n",
              "      <td>47.000000</td>\n",
              "      <td>47.000000</td>\n",
              "      <td>47.000000</td>\n",
              "    </tr>\n",
              "    <tr>\n",
              "      <th>mean</th>\n",
              "      <td>2000.680851</td>\n",
              "      <td>3.170213</td>\n",
              "      <td>340412.659574</td>\n",
              "    </tr>\n",
              "    <tr>\n",
              "      <th>std</th>\n",
              "      <td>794.702354</td>\n",
              "      <td>0.760982</td>\n",
              "      <td>125039.899586</td>\n",
              "    </tr>\n",
              "    <tr>\n",
              "      <th>min</th>\n",
              "      <td>852.000000</td>\n",
              "      <td>1.000000</td>\n",
              "      <td>169900.000000</td>\n",
              "    </tr>\n",
              "    <tr>\n",
              "      <th>25%</th>\n",
              "      <td>1432.000000</td>\n",
              "      <td>3.000000</td>\n",
              "      <td>249900.000000</td>\n",
              "    </tr>\n",
              "    <tr>\n",
              "      <th>50%</th>\n",
              "      <td>1888.000000</td>\n",
              "      <td>3.000000</td>\n",
              "      <td>299900.000000</td>\n",
              "    </tr>\n",
              "    <tr>\n",
              "      <th>75%</th>\n",
              "      <td>2269.000000</td>\n",
              "      <td>4.000000</td>\n",
              "      <td>384450.000000</td>\n",
              "    </tr>\n",
              "    <tr>\n",
              "      <th>max</th>\n",
              "      <td>4478.000000</td>\n",
              "      <td>5.000000</td>\n",
              "      <td>699900.000000</td>\n",
              "    </tr>\n",
              "  </tbody>\n",
              "</table>\n",
              "</div>\n",
              "    <div class=\"colab-df-buttons\">\n",
              "\n",
              "  <div class=\"colab-df-container\">\n",
              "    <button class=\"colab-df-convert\" onclick=\"convertToInteractive('df-2aeff4d6-412e-415f-af21-df46c2851e8f')\"\n",
              "            title=\"Convert this dataframe to an interactive table.\"\n",
              "            style=\"display:none;\">\n",
              "\n",
              "  <svg xmlns=\"http://www.w3.org/2000/svg\" height=\"24px\" viewBox=\"0 -960 960 960\">\n",
              "    <path d=\"M120-120v-720h720v720H120Zm60-500h600v-160H180v160Zm220 220h160v-160H400v160Zm0 220h160v-160H400v160ZM180-400h160v-160H180v160Zm440 0h160v-160H620v160ZM180-180h160v-160H180v160Zm440 0h160v-160H620v160Z\"/>\n",
              "  </svg>\n",
              "    </button>\n",
              "\n",
              "  <style>\n",
              "    .colab-df-container {\n",
              "      display:flex;\n",
              "      gap: 12px;\n",
              "    }\n",
              "\n",
              "    .colab-df-convert {\n",
              "      background-color: #E8F0FE;\n",
              "      border: none;\n",
              "      border-radius: 50%;\n",
              "      cursor: pointer;\n",
              "      display: none;\n",
              "      fill: #1967D2;\n",
              "      height: 32px;\n",
              "      padding: 0 0 0 0;\n",
              "      width: 32px;\n",
              "    }\n",
              "\n",
              "    .colab-df-convert:hover {\n",
              "      background-color: #E2EBFA;\n",
              "      box-shadow: 0px 1px 2px rgba(60, 64, 67, 0.3), 0px 1px 3px 1px rgba(60, 64, 67, 0.15);\n",
              "      fill: #174EA6;\n",
              "    }\n",
              "\n",
              "    .colab-df-buttons div {\n",
              "      margin-bottom: 4px;\n",
              "    }\n",
              "\n",
              "    [theme=dark] .colab-df-convert {\n",
              "      background-color: #3B4455;\n",
              "      fill: #D2E3FC;\n",
              "    }\n",
              "\n",
              "    [theme=dark] .colab-df-convert:hover {\n",
              "      background-color: #434B5C;\n",
              "      box-shadow: 0px 1px 3px 1px rgba(0, 0, 0, 0.15);\n",
              "      filter: drop-shadow(0px 1px 2px rgba(0, 0, 0, 0.3));\n",
              "      fill: #FFFFFF;\n",
              "    }\n",
              "  </style>\n",
              "\n",
              "    <script>\n",
              "      const buttonEl =\n",
              "        document.querySelector('#df-2aeff4d6-412e-415f-af21-df46c2851e8f button.colab-df-convert');\n",
              "      buttonEl.style.display =\n",
              "        google.colab.kernel.accessAllowed ? 'block' : 'none';\n",
              "\n",
              "      async function convertToInteractive(key) {\n",
              "        const element = document.querySelector('#df-2aeff4d6-412e-415f-af21-df46c2851e8f');\n",
              "        const dataTable =\n",
              "          await google.colab.kernel.invokeFunction('convertToInteractive',\n",
              "                                                    [key], {});\n",
              "        if (!dataTable) return;\n",
              "\n",
              "        const docLinkHtml = 'Like what you see? Visit the ' +\n",
              "          '<a target=\"_blank\" href=https://colab.research.google.com/notebooks/data_table.ipynb>data table notebook</a>'\n",
              "          + ' to learn more about interactive tables.';\n",
              "        element.innerHTML = '';\n",
              "        dataTable['output_type'] = 'display_data';\n",
              "        await google.colab.output.renderOutput(dataTable, element);\n",
              "        const docLink = document.createElement('div');\n",
              "        docLink.innerHTML = docLinkHtml;\n",
              "        element.appendChild(docLink);\n",
              "      }\n",
              "    </script>\n",
              "  </div>\n",
              "\n",
              "\n",
              "<div id=\"df-b0e9c476-cb45-494a-a2d9-e05cbe0caadf\">\n",
              "  <button class=\"colab-df-quickchart\" onclick=\"quickchart('df-b0e9c476-cb45-494a-a2d9-e05cbe0caadf')\"\n",
              "            title=\"Suggest charts\"\n",
              "            style=\"display:none;\">\n",
              "\n",
              "<svg xmlns=\"http://www.w3.org/2000/svg\" height=\"24px\"viewBox=\"0 0 24 24\"\n",
              "     width=\"24px\">\n",
              "    <g>\n",
              "        <path d=\"M19 3H5c-1.1 0-2 .9-2 2v14c0 1.1.9 2 2 2h14c1.1 0 2-.9 2-2V5c0-1.1-.9-2-2-2zM9 17H7v-7h2v7zm4 0h-2V7h2v10zm4 0h-2v-4h2v4z\"/>\n",
              "    </g>\n",
              "</svg>\n",
              "  </button>\n",
              "\n",
              "<style>\n",
              "  .colab-df-quickchart {\n",
              "      --bg-color: #E8F0FE;\n",
              "      --fill-color: #1967D2;\n",
              "      --hover-bg-color: #E2EBFA;\n",
              "      --hover-fill-color: #174EA6;\n",
              "      --disabled-fill-color: #AAA;\n",
              "      --disabled-bg-color: #DDD;\n",
              "  }\n",
              "\n",
              "  [theme=dark] .colab-df-quickchart {\n",
              "      --bg-color: #3B4455;\n",
              "      --fill-color: #D2E3FC;\n",
              "      --hover-bg-color: #434B5C;\n",
              "      --hover-fill-color: #FFFFFF;\n",
              "      --disabled-bg-color: #3B4455;\n",
              "      --disabled-fill-color: #666;\n",
              "  }\n",
              "\n",
              "  .colab-df-quickchart {\n",
              "    background-color: var(--bg-color);\n",
              "    border: none;\n",
              "    border-radius: 50%;\n",
              "    cursor: pointer;\n",
              "    display: none;\n",
              "    fill: var(--fill-color);\n",
              "    height: 32px;\n",
              "    padding: 0;\n",
              "    width: 32px;\n",
              "  }\n",
              "\n",
              "  .colab-df-quickchart:hover {\n",
              "    background-color: var(--hover-bg-color);\n",
              "    box-shadow: 0 1px 2px rgba(60, 64, 67, 0.3), 0 1px 3px 1px rgba(60, 64, 67, 0.15);\n",
              "    fill: var(--button-hover-fill-color);\n",
              "  }\n",
              "\n",
              "  .colab-df-quickchart-complete:disabled,\n",
              "  .colab-df-quickchart-complete:disabled:hover {\n",
              "    background-color: var(--disabled-bg-color);\n",
              "    fill: var(--disabled-fill-color);\n",
              "    box-shadow: none;\n",
              "  }\n",
              "\n",
              "  .colab-df-spinner {\n",
              "    border: 2px solid var(--fill-color);\n",
              "    border-color: transparent;\n",
              "    border-bottom-color: var(--fill-color);\n",
              "    animation:\n",
              "      spin 1s steps(1) infinite;\n",
              "  }\n",
              "\n",
              "  @keyframes spin {\n",
              "    0% {\n",
              "      border-color: transparent;\n",
              "      border-bottom-color: var(--fill-color);\n",
              "      border-left-color: var(--fill-color);\n",
              "    }\n",
              "    20% {\n",
              "      border-color: transparent;\n",
              "      border-left-color: var(--fill-color);\n",
              "      border-top-color: var(--fill-color);\n",
              "    }\n",
              "    30% {\n",
              "      border-color: transparent;\n",
              "      border-left-color: var(--fill-color);\n",
              "      border-top-color: var(--fill-color);\n",
              "      border-right-color: var(--fill-color);\n",
              "    }\n",
              "    40% {\n",
              "      border-color: transparent;\n",
              "      border-right-color: var(--fill-color);\n",
              "      border-top-color: var(--fill-color);\n",
              "    }\n",
              "    60% {\n",
              "      border-color: transparent;\n",
              "      border-right-color: var(--fill-color);\n",
              "    }\n",
              "    80% {\n",
              "      border-color: transparent;\n",
              "      border-right-color: var(--fill-color);\n",
              "      border-bottom-color: var(--fill-color);\n",
              "    }\n",
              "    90% {\n",
              "      border-color: transparent;\n",
              "      border-bottom-color: var(--fill-color);\n",
              "    }\n",
              "  }\n",
              "</style>\n",
              "\n",
              "  <script>\n",
              "    async function quickchart(key) {\n",
              "      const quickchartButtonEl =\n",
              "        document.querySelector('#' + key + ' button');\n",
              "      quickchartButtonEl.disabled = true;  // To prevent multiple clicks.\n",
              "      quickchartButtonEl.classList.add('colab-df-spinner');\n",
              "      try {\n",
              "        const charts = await google.colab.kernel.invokeFunction(\n",
              "            'suggestCharts', [key], {});\n",
              "      } catch (error) {\n",
              "        console.error('Error during call to suggestCharts:', error);\n",
              "      }\n",
              "      quickchartButtonEl.classList.remove('colab-df-spinner');\n",
              "      quickchartButtonEl.classList.add('colab-df-quickchart-complete');\n",
              "    }\n",
              "    (() => {\n",
              "      let quickchartButtonEl =\n",
              "        document.querySelector('#df-b0e9c476-cb45-494a-a2d9-e05cbe0caadf button');\n",
              "      quickchartButtonEl.style.display =\n",
              "        google.colab.kernel.accessAllowed ? 'block' : 'none';\n",
              "    })();\n",
              "  </script>\n",
              "</div>\n",
              "    </div>\n",
              "  </div>\n"
            ]
          },
          "metadata": {},
          "execution_count": 817
        }
      ]
    },
    {
      "cell_type": "markdown",
      "source": [
        "## Plot the Data"
      ],
      "metadata": {
        "id": "OA4rSl74TGz8"
      }
    },
    {
      "cell_type": "code",
      "source": [
        "# Function to calculate best fit line and equation\n",
        "def best_fit_and_equation(x, y):\n",
        "    # Perform linear regression\n",
        "    m, b = np.polyfit(x, y, 1)\n",
        "    # Return the best fit line and the equation parameters\n",
        "    return m * x + b, m, b\n",
        "\n",
        "plt.figure(figsize=(12, 5))\n",
        "\n",
        "# Plotting 'size' vs 'price' with best fit line\n",
        "plt.subplot(1, 2, 1)\n",
        "plt.scatter(dataframe['size'], dataframe['price'], label='Data')\n",
        "best_fit_line, m1, b1 = best_fit_and_equation(dataframe['size'], dataframe['price'])\n",
        "plt.plot(dataframe['size'], best_fit_line, color='red', label=f'Best fit line\\ny={m1:.2f}x+{b1:.2f}')\n",
        "plt.title('House Size vs Price')\n",
        "plt.xlabel('Size')\n",
        "plt.ylabel('Price')\n",
        "plt.legend()\n",
        "\n",
        "# Plotting 'no. of bedrooms' vs 'price' with best fit line\n",
        "plt.subplot(1, 2, 2)\n",
        "plt.scatter(dataframe['no. of bedrooms'], dataframe['price'], label='Data')\n",
        "best_fit_line, m2, b2 = best_fit_and_equation(dataframe['no. of bedrooms'], dataframe['price'])\n",
        "plt.plot(dataframe['no. of bedrooms'], best_fit_line, color='red', label=f'Best fit line\\ny={m2:.2f}x+{b2:.2f}')\n",
        "plt.title('Number of Bedrooms vs Price')\n",
        "plt.xlabel('Number of Bedrooms')\n",
        "plt.ylabel('Price')\n",
        "plt.legend()\n",
        "\n",
        "plt.tight_layout()\n",
        "plt.show()\n"
      ],
      "metadata": {
        "id": "t9-IBaBLYkCT",
        "colab": {
          "base_uri": "https://localhost:8080/",
          "height": 482
        },
        "outputId": "6057da46-eb48-4358-9589-30f45f20f4c4"
      },
      "execution_count": 818,
      "outputs": [
        {
          "output_type": "display_data",
          "data": {
            "text/plain": [
              "<Figure size 1200x500 with 2 Axes>"
            ],
            "image/png": "[encoded data removed]"
          },
          "metadata": {}
        }
      ]
    },
    {
      "cell_type": "markdown",
      "source": [
        "## Feature Normalization\n",
        "\n",
        "To make sure features are on a similar scale:\n",
        "\n",
        "$x_i = \\frac{x_i - \\mu_i}{\\sigma_i}$"
      ],
      "metadata": {
        "id": "utb3uR1IZO1D"
      }
    },
    {
      "cell_type": "code",
      "source": [
        "def featureNormalization(X):\n",
        "    \"\"\"\n",
        "    Take in numpy array of X values and return normalize X values,\n",
        "    the mean and standard deviation of each feature\n",
        "    \"\"\"\n",
        "    mean = np.mean(X, axis=0)\n",
        "    std = np.std(X, axis=0)\n",
        "    X_norm = (X - mean) / std\n",
        "    return X_norm, mean, std"
      ],
      "metadata": {
        "id": "vMcxx5geZTDi"
      },
      "execution_count": 819,
      "outputs": []
    },
    {
      "cell_type": "code",
      "source": [
        "# Apply feature normalization\n",
        "features = dataframe[['size', 'no. of bedrooms']].values\n",
        "normalized_features, means, stds = featureNormalization(features)\n",
        "dataframe[['size', 'no. of bedrooms']] = normalized_features\n",
        "\n",
        "# Prepare features and labels\n",
        "X = dataframe[['size', 'no. of bedrooms']].values\n",
        "y = dataframe['price'].values  # Directly using the price"
      ],
      "metadata": {
        "id": "sgPT3qxKYssw"
      },
      "execution_count": 820,
      "outputs": []
    },
    {
      "cell_type": "markdown",
      "source": [
        "## Process the Data"
      ],
      "metadata": {
        "id": "hiGpMeaUae8d"
      }
    },
    {
      "cell_type": "code",
      "source": [
        "#Ensure the shape of data\n",
        "print(\"Shape of Features (X):\", X.shape)\n",
        "print(\"Shape of Labels (y):\", y.shape)\n"
      ],
      "metadata": {
        "colab": {
          "base_uri": "https://localhost:8080/"
        },
        "id": "1vPExT0x5B3X",
        "outputId": "04c2f2a8-61b0-4f9a-aa8b-263004daa635"
      },
      "execution_count": 821,
      "outputs": [
        {
          "output_type": "stream",
          "name": "stdout",
          "text": [
            "Shape of Features (X): (47, 2)\n",
            "Shape of Labels (y): (47,)\n"
          ]
        }
      ]
    },
    {
      "cell_type": "code",
      "source": [
        "# Convert the data to a TensorFlow Dataset\n",
        "def convert_to_tensorflow_dataset(X, y, batch_size=32):\n",
        "    dataset = tf.data.Dataset.from_tensor_slices((X, y))\n",
        "    dataset = dataset.batch(batch_size)\n",
        "    return dataset\n",
        "\n",
        "# Convert data\n",
        "dataset = convert_to_tensorflow_dataset(X, y)"
      ],
      "metadata": {
        "id": "MttRMPoA5PYN"
      },
      "execution_count": 822,
      "outputs": []
    },
    {
      "cell_type": "code",
      "source": [
        "# Reshape y for StandardScaler\n",
        "y = dataframe['price'].values.reshape(-1, 1)\n",
        "\n",
        "# Initialize the scaler and fit it to the target variable\n",
        "scaler = StandardScaler()\n",
        "y_scaled = scaler.fit_transform(y).flatten()  # Use flatten to convert it back to 1D array\n"
      ],
      "metadata": {
        "id": "WtE5X7KBBwmR"
      },
      "execution_count": 823,
      "outputs": []
    },
    {
      "cell_type": "markdown",
      "source": [
        "## Build the Model"
      ],
      "metadata": {
        "id": "l7zupIUCt87p"
      }
    },
    {
      "cell_type": "code",
      "source": [
        "model.compile(optimizer='sgd', loss='mse')"
      ],
      "metadata": {
        "id": "AmURYaRcYxCP"
      },
      "execution_count": 824,
      "outputs": []
    },
    {
      "cell_type": "markdown",
      "source": [
        "## Train the Model"
      ],
      "metadata": {
        "id": "zKlvTnhpuK6v"
      }
    },
    {
      "cell_type": "code",
      "source": [
        "# Train for more epochs if needed\n",
        "history = model.fit(X, y_scaled, epochs=200)"
      ],
      "metadata": {
        "id": "a1J_1p0WuM1B",
        "colab": {
          "base_uri": "https://localhost:8080/"
        },
        "outputId": "4bce2c47-76da-4db5-f4a9-9b7f3e011c88"
      },
      "execution_count": 825,
      "outputs": [
        {
          "output_type": "stream",
          "name": "stdout",
          "text": [
            "Epoch 1/200\n",
            "2/2 [==============================] - 0s 7ms/step - loss: 0.1824\n",
            "Epoch 2/200\n",
            "2/2 [==============================] - 0s 9ms/step - loss: 0.1815\n",
            "Epoch 3/200\n",
            "2/2 [==============================] - 0s 6ms/step - loss: 0.1815\n",
            "Epoch 4/200\n",
            "2/2 [==============================] - 0s 6ms/step - loss: 0.1812\n",
            "Epoch 5/200\n",
            "2/2 [==============================] - 0s 6ms/step - loss: 0.1811\n",
            "Epoch 6/200\n",
            "2/2 [==============================] - 0s 6ms/step - loss: 0.1806\n",
            "Epoch 7/200\n",
            "2/2 [==============================] - 0s 6ms/step - loss: 0.1811\n",
            "Epoch 8/200\n",
            "2/2 [==============================] - 0s 6ms/step - loss: 0.1804\n",
            "Epoch 9/200\n",
            "2/2 [==============================] - 0s 6ms/step - loss: 0.1803\n",
            "Epoch 10/200\n",
            "2/2 [==============================] - 0s 6ms/step - loss: 0.1797\n",
            "Epoch 11/200\n",
            "2/2 [==============================] - 0s 6ms/step - loss: 0.1805\n",
            "Epoch 12/200\n",
            "2/2 [==============================] - 0s 6ms/step - loss: 0.1797\n",
            "Epoch 13/200\n",
            "2/2 [==============================] - 0s 6ms/step - loss: 0.1794\n",
            "Epoch 14/200\n",
            "2/2 [==============================] - 0s 6ms/step - loss: 0.1796\n",
            "Epoch 15/200\n",
            "2/2 [==============================] - 0s 6ms/step - loss: 0.1795\n",
            "Epoch 16/200\n",
            "2/2 [==============================] - 0s 6ms/step - loss: 0.1793\n",
            "Epoch 17/200\n",
            "2/2 [==============================] - 0s 6ms/step - loss: 0.1801\n",
            "Epoch 18/200\n",
            "2/2 [==============================] - 0s 6ms/step - loss: 0.1794\n",
            "Epoch 19/200\n",
            "2/2 [==============================] - 0s 6ms/step - loss: 0.1794\n",
            "Epoch 20/200\n",
            "2/2 [==============================] - 0s 7ms/step - loss: 0.1787\n",
            "Epoch 21/200\n",
            "2/2 [==============================] - 0s 6ms/step - loss: 0.1795\n",
            "Epoch 22/200\n",
            "2/2 [==============================] - 0s 6ms/step - loss: 0.1789\n",
            "Epoch 23/200\n",
            "2/2 [==============================] - 0s 6ms/step - loss: 0.1785\n",
            "Epoch 24/200\n",
            "2/2 [==============================] - 0s 6ms/step - loss: 0.1788\n",
            "Epoch 25/200\n",
            "2/2 [==============================] - 0s 8ms/step - loss: 0.1786\n",
            "Epoch 26/200\n",
            "2/2 [==============================] - 0s 7ms/step - loss: 0.1788\n",
            "Epoch 27/200\n",
            "2/2 [==============================] - 0s 6ms/step - loss: 0.1790\n",
            "Epoch 28/200\n",
            "2/2 [==============================] - 0s 6ms/step - loss: 0.1784\n",
            "Epoch 29/200\n",
            "2/2 [==============================] - 0s 6ms/step - loss: 0.1783\n",
            "Epoch 30/200\n",
            "2/2 [==============================] - 0s 6ms/step - loss: 0.1785\n",
            "Epoch 31/200\n",
            "2/2 [==============================] - 0s 6ms/step - loss: 0.1787\n",
            "Epoch 32/200\n",
            "2/2 [==============================] - 0s 6ms/step - loss: 0.1783\n",
            "Epoch 33/200\n",
            "2/2 [==============================] - 0s 6ms/step - loss: 0.1785\n",
            "Epoch 34/200\n",
            "2/2 [==============================] - 0s 7ms/step - loss: 0.1782\n",
            "Epoch 35/200\n",
            "2/2 [==============================] - 0s 6ms/step - loss: 0.1781\n",
            "Epoch 36/200\n",
            "2/2 [==============================] - 0s 8ms/step - loss: 0.1782\n",
            "Epoch 37/200\n",
            "2/2 [==============================] - 0s 5ms/step - loss: 0.1787\n",
            "Epoch 38/200\n",
            "2/2 [==============================] - 0s 5ms/step - loss: 0.1781\n",
            "Epoch 39/200\n",
            "2/2 [==============================] - 0s 5ms/step - loss: 0.1784\n",
            "Epoch 40/200\n",
            "2/2 [==============================] - 0s 6ms/step - loss: 0.1787\n",
            "Epoch 41/200\n",
            "2/2 [==============================] - 0s 6ms/step - loss: 0.1781\n",
            "Epoch 42/200\n",
            "2/2 [==============================] - 0s 12ms/step - loss: 0.1779\n",
            "Epoch 43/200\n",
            "2/2 [==============================] - 0s 6ms/step - loss: 0.1779\n",
            "Epoch 44/200\n",
            "2/2 [==============================] - 0s 6ms/step - loss: 0.1778\n",
            "Epoch 45/200\n",
            "2/2 [==============================] - 0s 6ms/step - loss: 0.1786\n",
            "Epoch 46/200\n",
            "2/2 [==============================] - 0s 6ms/step - loss: 0.1777\n",
            "Epoch 47/200\n",
            "2/2 [==============================] - 0s 6ms/step - loss: 0.1779\n",
            "Epoch 48/200\n",
            "2/2 [==============================] - 0s 6ms/step - loss: 0.1780\n",
            "Epoch 49/200\n",
            "2/2 [==============================] - 0s 6ms/step - loss: 0.1781\n",
            "Epoch 50/200\n",
            "2/2 [==============================] - 0s 6ms/step - loss: 0.1777\n",
            "Epoch 51/200\n",
            "2/2 [==============================] - 0s 6ms/step - loss: 0.1778\n",
            "Epoch 52/200\n",
            "2/2 [==============================] - 0s 6ms/step - loss: 0.1781\n",
            "Epoch 53/200\n",
            "2/2 [==============================] - 0s 6ms/step - loss: 0.1777\n",
            "Epoch 54/200\n",
            "2/2 [==============================] - 0s 6ms/step - loss: 0.1775\n",
            "Epoch 55/200\n",
            "2/2 [==============================] - 0s 6ms/step - loss: 0.1775\n",
            "Epoch 56/200\n",
            "2/2 [==============================] - 0s 6ms/step - loss: 0.1774\n",
            "Epoch 57/200\n",
            "2/2 [==============================] - 0s 6ms/step - loss: 0.1775\n",
            "Epoch 58/200\n",
            "2/2 [==============================] - 0s 6ms/step - loss: 0.1774\n",
            "Epoch 59/200\n",
            "2/2 [==============================] - 0s 6ms/step - loss: 0.1782\n",
            "Epoch 60/200\n",
            "2/2 [==============================] - 0s 6ms/step - loss: 0.1776\n",
            "Epoch 61/200\n",
            "2/2 [==============================] - 0s 6ms/step - loss: 0.1776\n",
            "Epoch 62/200\n",
            "2/2 [==============================] - 0s 6ms/step - loss: 0.1776\n",
            "Epoch 63/200\n",
            "2/2 [==============================] - 0s 6ms/step - loss: 0.1773\n",
            "Epoch 64/200\n",
            "2/2 [==============================] - 0s 6ms/step - loss: 0.1774\n",
            "Epoch 65/200\n",
            "2/2 [==============================] - 0s 6ms/step - loss: 0.1774\n",
            "Epoch 66/200\n",
            "2/2 [==============================] - 0s 6ms/step - loss: 0.1772\n",
            "Epoch 67/200\n",
            "2/2 [==============================] - 0s 6ms/step - loss: 0.1776\n",
            "Epoch 68/200\n",
            "2/2 [==============================] - 0s 6ms/step - loss: 0.1782\n",
            "Epoch 69/200\n",
            "2/2 [==============================] - 0s 6ms/step - loss: 0.1774\n",
            "Epoch 70/200\n",
            "2/2 [==============================] - 0s 6ms/step - loss: 0.1777\n",
            "Epoch 71/200\n",
            "2/2 [==============================] - 0s 7ms/step - loss: 0.1774\n",
            "Epoch 72/200\n",
            "2/2 [==============================] - 0s 6ms/step - loss: 0.1777\n",
            "Epoch 73/200\n",
            "2/2 [==============================] - 0s 7ms/step - loss: 0.1774\n",
            "Epoch 74/200\n",
            "2/2 [==============================] - 0s 10ms/step - loss: 0.1774\n",
            "Epoch 75/200\n",
            "2/2 [==============================] - 0s 6ms/step - loss: 0.1774\n",
            "Epoch 76/200\n",
            "2/2 [==============================] - 0s 6ms/step - loss: 0.1772\n",
            "Epoch 77/200\n",
            "2/2 [==============================] - 0s 7ms/step - loss: 0.1771\n",
            "Epoch 78/200\n",
            "2/2 [==============================] - 0s 6ms/step - loss: 0.1776\n",
            "Epoch 79/200\n",
            "2/2 [==============================] - 0s 6ms/step - loss: 0.1774\n",
            "Epoch 80/200\n",
            "2/2 [==============================] - 0s 6ms/step - loss: 0.1770\n",
            "Epoch 81/200\n",
            "2/2 [==============================] - 0s 6ms/step - loss: 0.1771\n",
            "Epoch 82/200\n",
            "2/2 [==============================] - 0s 6ms/step - loss: 0.1769\n",
            "Epoch 83/200\n",
            "2/2 [==============================] - 0s 6ms/step - loss: 0.1773\n",
            "Epoch 84/200\n",
            "2/2 [==============================] - 0s 7ms/step - loss: 0.1773\n",
            "Epoch 85/200\n",
            "2/2 [==============================] - 0s 6ms/step - loss: 0.1772\n",
            "Epoch 86/200\n",
            "2/2 [==============================] - 0s 6ms/step - loss: 0.1769\n",
            "Epoch 87/200\n",
            "2/2 [==============================] - 0s 9ms/step - loss: 0.1771\n",
            "Epoch 88/200\n",
            "2/2 [==============================] - 0s 8ms/step - loss: 0.1772\n",
            "Epoch 89/200\n",
            "2/2 [==============================] - 0s 8ms/step - loss: 0.1777\n",
            "Epoch 90/200\n",
            "2/2 [==============================] - 0s 6ms/step - loss: 0.1786\n",
            "Epoch 91/200\n",
            "2/2 [==============================] - 0s 6ms/step - loss: 0.1772\n",
            "Epoch 92/200\n",
            "2/2 [==============================] - 0s 6ms/step - loss: 0.1770\n",
            "Epoch 93/200\n",
            "2/2 [==============================] - 0s 6ms/step - loss: 0.1768\n",
            "Epoch 94/200\n",
            "2/2 [==============================] - 0s 6ms/step - loss: 0.1770\n",
            "Epoch 95/200\n",
            "2/2 [==============================] - 0s 7ms/step - loss: 0.1770\n",
            "Epoch 96/200\n",
            "2/2 [==============================] - 0s 7ms/step - loss: 0.1771\n",
            "Epoch 97/200\n",
            "2/2 [==============================] - 0s 6ms/step - loss: 0.1774\n",
            "Epoch 98/200\n",
            "2/2 [==============================] - 0s 6ms/step - loss: 0.1771\n",
            "Epoch 99/200\n",
            "2/2 [==============================] - 0s 6ms/step - loss: 0.1772\n",
            "Epoch 100/200\n",
            "2/2 [==============================] - 0s 6ms/step - loss: 0.1770\n",
            "Epoch 101/200\n",
            "2/2 [==============================] - 0s 6ms/step - loss: 0.1769\n",
            "Epoch 102/200\n",
            "2/2 [==============================] - 0s 7ms/step - loss: 0.1769\n",
            "Epoch 103/200\n",
            "2/2 [==============================] - 0s 6ms/step - loss: 0.1772\n",
            "Epoch 104/200\n",
            "2/2 [==============================] - 0s 6ms/step - loss: 0.1770\n",
            "Epoch 105/200\n",
            "2/2 [==============================] - 0s 6ms/step - loss: 0.1767\n",
            "Epoch 106/200\n",
            "2/2 [==============================] - 0s 6ms/step - loss: 0.1770\n",
            "Epoch 107/200\n",
            "2/2 [==============================] - 0s 6ms/step - loss: 0.1773\n",
            "Epoch 108/200\n",
            "2/2 [==============================] - 0s 6ms/step - loss: 0.1769\n",
            "Epoch 109/200\n",
            "2/2 [==============================] - 0s 6ms/step - loss: 0.1768\n",
            "Epoch 110/200\n",
            "2/2 [==============================] - 0s 6ms/step - loss: 0.1768\n",
            "Epoch 111/200\n",
            "2/2 [==============================] - 0s 6ms/step - loss: 0.1767\n",
            "Epoch 112/200\n",
            "2/2 [==============================] - 0s 6ms/step - loss: 0.1767\n",
            "Epoch 113/200\n",
            "2/2 [==============================] - 0s 6ms/step - loss: 0.1769\n",
            "Epoch 114/200\n",
            "2/2 [==============================] - 0s 6ms/step - loss: 0.1768\n",
            "Epoch 115/200\n",
            "2/2 [==============================] - 0s 7ms/step - loss: 0.1769\n",
            "Epoch 116/200\n",
            "2/2 [==============================] - 0s 6ms/step - loss: 0.1767\n",
            "Epoch 117/200\n",
            "2/2 [==============================] - 0s 6ms/step - loss: 0.1767\n",
            "Epoch 118/200\n",
            "2/2 [==============================] - 0s 6ms/step - loss: 0.1768\n",
            "Epoch 119/200\n",
            "2/2 [==============================] - 0s 6ms/step - loss: 0.1770\n",
            "Epoch 120/200\n",
            "2/2 [==============================] - 0s 9ms/step - loss: 0.1767\n",
            "Epoch 121/200\n",
            "2/2 [==============================] - 0s 6ms/step - loss: 0.1766\n",
            "Epoch 122/200\n",
            "2/2 [==============================] - 0s 6ms/step - loss: 0.1763\n",
            "Epoch 123/200\n",
            "2/2 [==============================] - 0s 6ms/step - loss: 0.1763\n",
            "Epoch 124/200\n",
            "2/2 [==============================] - 0s 6ms/step - loss: 0.1766\n",
            "Epoch 125/200\n",
            "2/2 [==============================] - 0s 6ms/step - loss: 0.1764\n",
            "Epoch 126/200\n",
            "2/2 [==============================] - 0s 6ms/step - loss: 0.1768\n",
            "Epoch 127/200\n",
            "2/2 [==============================] - 0s 6ms/step - loss: 0.1769\n",
            "Epoch 128/200\n",
            "2/2 [==============================] - 0s 6ms/step - loss: 0.1766\n",
            "Epoch 129/200\n",
            "2/2 [==============================] - 0s 6ms/step - loss: 0.1768\n",
            "Epoch 130/200\n",
            "2/2 [==============================] - 0s 11ms/step - loss: 0.1763\n",
            "Epoch 131/200\n",
            "2/2 [==============================] - 0s 7ms/step - loss: 0.1763\n",
            "Epoch 132/200\n",
            "2/2 [==============================] - 0s 6ms/step - loss: 0.1764\n",
            "Epoch 133/200\n",
            "2/2 [==============================] - 0s 8ms/step - loss: 0.1762\n",
            "Epoch 134/200\n",
            "2/2 [==============================] - 0s 6ms/step - loss: 0.1766\n",
            "Epoch 135/200\n",
            "2/2 [==============================] - 0s 6ms/step - loss: 0.1763\n",
            "Epoch 136/200\n",
            "2/2 [==============================] - 0s 6ms/step - loss: 0.1763\n",
            "Epoch 137/200\n",
            "2/2 [==============================] - 0s 6ms/step - loss: 0.1762\n",
            "Epoch 138/200\n",
            "2/2 [==============================] - 0s 6ms/step - loss: 0.1763\n",
            "Epoch 139/200\n",
            "2/2 [==============================] - 0s 6ms/step - loss: 0.1762\n",
            "Epoch 140/200\n",
            "2/2 [==============================] - 0s 6ms/step - loss: 0.1771\n",
            "Epoch 141/200\n",
            "2/2 [==============================] - 0s 6ms/step - loss: 0.1767\n",
            "Epoch 142/200\n",
            "2/2 [==============================] - 0s 6ms/step - loss: 0.1765\n",
            "Epoch 143/200\n",
            "2/2 [==============================] - 0s 6ms/step - loss: 0.1768\n",
            "Epoch 144/200\n",
            "2/2 [==============================] - 0s 6ms/step - loss: 0.1764\n",
            "Epoch 145/200\n",
            "2/2 [==============================] - 0s 6ms/step - loss: 0.1763\n",
            "Epoch 146/200\n",
            "2/2 [==============================] - 0s 7ms/step - loss: 0.1763\n",
            "Epoch 147/200\n",
            "2/2 [==============================] - 0s 6ms/step - loss: 0.1770\n",
            "Epoch 148/200\n",
            "2/2 [==============================] - 0s 6ms/step - loss: 0.1761\n",
            "Epoch 149/200\n",
            "2/2 [==============================] - 0s 6ms/step - loss: 0.1768\n",
            "Epoch 150/200\n",
            "2/2 [==============================] - 0s 6ms/step - loss: 0.1769\n",
            "Epoch 151/200\n",
            "2/2 [==============================] - 0s 6ms/step - loss: 0.1767\n",
            "Epoch 152/200\n",
            "2/2 [==============================] - 0s 6ms/step - loss: 0.1764\n",
            "Epoch 153/200\n",
            "2/2 [==============================] - 0s 6ms/step - loss: 0.1761\n",
            "Epoch 154/200\n",
            "2/2 [==============================] - 0s 6ms/step - loss: 0.1766\n",
            "Epoch 155/200\n",
            "2/2 [==============================] - 0s 6ms/step - loss: 0.1764\n",
            "Epoch 156/200\n",
            "2/2 [==============================] - 0s 6ms/step - loss: 0.1763\n",
            "Epoch 157/200\n",
            "2/2 [==============================] - 0s 7ms/step - loss: 0.1764\n",
            "Epoch 158/200\n",
            "2/2 [==============================] - 0s 7ms/step - loss: 0.1765\n",
            "Epoch 159/200\n",
            "2/2 [==============================] - 0s 6ms/step - loss: 0.1760\n",
            "Epoch 160/200\n",
            "2/2 [==============================] - 0s 6ms/step - loss: 0.1760\n",
            "Epoch 161/200\n",
            "2/2 [==============================] - 0s 6ms/step - loss: 0.1761\n",
            "Epoch 162/200\n",
            "2/2 [==============================] - 0s 7ms/step - loss: 0.1760\n",
            "Epoch 163/200\n",
            "2/2 [==============================] - 0s 10ms/step - loss: 0.1759\n",
            "Epoch 164/200\n",
            "2/2 [==============================] - 0s 6ms/step - loss: 0.1765\n",
            "Epoch 165/200\n",
            "2/2 [==============================] - 0s 10ms/step - loss: 0.1770\n",
            "Epoch 166/200\n",
            "2/2 [==============================] - 0s 8ms/step - loss: 0.1766\n",
            "Epoch 167/200\n",
            "2/2 [==============================] - 0s 6ms/step - loss: 0.1770\n",
            "Epoch 168/200\n",
            "2/2 [==============================] - 0s 7ms/step - loss: 0.1760\n",
            "Epoch 169/200\n",
            "2/2 [==============================] - 0s 6ms/step - loss: 0.1759\n",
            "Epoch 170/200\n",
            "2/2 [==============================] - 0s 6ms/step - loss: 0.1767\n",
            "Epoch 171/200\n",
            "2/2 [==============================] - 0s 6ms/step - loss: 0.1765\n",
            "Epoch 172/200\n",
            "2/2 [==============================] - 0s 6ms/step - loss: 0.1759\n",
            "Epoch 173/200\n",
            "2/2 [==============================] - 0s 6ms/step - loss: 0.1764\n",
            "Epoch 174/200\n",
            "2/2 [==============================] - 0s 6ms/step - loss: 0.1761\n",
            "Epoch 175/200\n",
            "2/2 [==============================] - 0s 6ms/step - loss: 0.1762\n",
            "Epoch 176/200\n",
            "2/2 [==============================] - 0s 7ms/step - loss: 0.1759\n",
            "Epoch 177/200\n",
            "2/2 [==============================] - 0s 7ms/step - loss: 0.1757\n",
            "Epoch 178/200\n",
            "2/2 [==============================] - 0s 7ms/step - loss: 0.1765\n",
            "Epoch 179/200\n",
            "2/2 [==============================] - 0s 7ms/step - loss: 0.1763\n",
            "Epoch 180/200\n",
            "2/2 [==============================] - 0s 6ms/step - loss: 0.1762\n",
            "Epoch 181/200\n",
            "2/2 [==============================] - 0s 6ms/step - loss: 0.1757\n",
            "Epoch 182/200\n",
            "2/2 [==============================] - 0s 8ms/step - loss: 0.1770\n",
            "Epoch 183/200\n",
            "2/2 [==============================] - 0s 6ms/step - loss: 0.1761\n",
            "Epoch 184/200\n",
            "2/2 [==============================] - 0s 6ms/step - loss: 0.1764\n",
            "Epoch 185/200\n",
            "2/2 [==============================] - 0s 6ms/step - loss: 0.1758\n",
            "Epoch 186/200\n",
            "2/2 [==============================] - 0s 7ms/step - loss: 0.1758\n",
            "Epoch 187/200\n",
            "2/2 [==============================] - 0s 7ms/step - loss: 0.1760\n",
            "Epoch 188/200\n",
            "2/2 [==============================] - 0s 9ms/step - loss: 0.1757\n",
            "Epoch 189/200\n",
            "2/2 [==============================] - 0s 8ms/step - loss: 0.1766\n",
            "Epoch 190/200\n",
            "2/2 [==============================] - 0s 7ms/step - loss: 0.1762\n",
            "Epoch 191/200\n",
            "2/2 [==============================] - 0s 7ms/step - loss: 0.1760\n",
            "Epoch 192/200\n",
            "2/2 [==============================] - 0s 6ms/step - loss: 0.1758\n",
            "Epoch 193/200\n",
            "2/2 [==============================] - 0s 7ms/step - loss: 0.1765\n",
            "Epoch 194/200\n",
            "2/2 [==============================] - 0s 7ms/step - loss: 0.1760\n",
            "Epoch 195/200\n",
            "2/2 [==============================] - 0s 7ms/step - loss: 0.1757\n",
            "Epoch 196/200\n",
            "2/2 [==============================] - 0s 7ms/step - loss: 0.1757\n",
            "Epoch 197/200\n",
            "2/2 [==============================] - 0s 7ms/step - loss: 0.1756\n",
            "Epoch 198/200\n",
            "2/2 [==============================] - 0s 6ms/step - loss: 0.1756\n",
            "Epoch 199/200\n",
            "2/2 [==============================] - 0s 6ms/step - loss: 0.1761\n",
            "Epoch 200/200\n",
            "2/2 [==============================] - 0s 6ms/step - loss: 0.1761\n"
          ]
        }
      ]
    },
    {
      "cell_type": "code",
      "source": [
        "print(\"Shape of actual prices (y):\", y.shape)\n",
        "print(\"Shape of features (X):\", X.shape)\n"
      ],
      "metadata": {
        "colab": {
          "base_uri": "https://localhost:8080/"
        },
        "id": "VuP8fBI94XHQ",
        "outputId": "962c4128-8276-47f1-d3d0-359c0ff9664e"
      },
      "execution_count": 826,
      "outputs": [
        {
          "output_type": "stream",
          "name": "stdout",
          "text": [
            "Shape of actual prices (y): (47, 1)\n",
            "Shape of features (X): (47, 2)\n"
          ]
        }
      ]
    },
    {
      "cell_type": "code",
      "source": [
        "# After re-training\n",
        "predicted_prices = model.predict(X).flatten()\n",
        "\n",
        "# Flatten y to make it 1-dimensional\n",
        "y_flat = y.flatten()\n",
        "\n",
        "# Assuming 'scaler' is your StandardScaler instance used to scale 'y'\n",
        "predicted_prices_original_scale = scaler.inverse_transform(predicted_prices.reshape(-1, 1)).flatten()\n",
        "\n",
        "\n",
        "# Now check the shapes again\n",
        "print(\"Shape of flattened actual prices (y_flat):\", y_flat.shape)\n",
        "print(\"Shape of predicted prices:\", predicted_prices.shape)\n"
      ],
      "metadata": {
        "colab": {
          "base_uri": "https://localhost:8080/"
        },
        "id": "YR0J5_Ku6NPB",
        "outputId": "57647392-60bd-49b5-c66b-3d8c23d71e6c"
      },
      "execution_count": 827,
      "outputs": [
        {
          "output_type": "stream",
          "name": "stdout",
          "text": [
            "2/2 [==============================] - 0s 4ms/step\n",
            "Shape of flattened actual prices (y_flat): (47,)\n",
            "Shape of predicted prices: (47,)\n"
          ]
        }
      ]
    },
    {
      "cell_type": "code",
      "source": [
        "# Actual vs. Predicted Prices on Original Scale\n",
        "plt.figure(figsize=(15, 6))\n",
        "\n",
        "plt.subplot(1, 2, 1)\n",
        "plt.scatter(y.flatten(), predicted_prices_original_scale, alpha=0.6)\n",
        "plt.plot([y.min(), y.max()], [y.min(), y.max()], 'k--', lw=4)  # Diagonal line\n",
        "plt.title('Actual vs. Predicted Prices')\n",
        "plt.xlabel('Actual Prices')\n",
        "plt.ylabel('Predicted Prices')\n",
        "\n",
        "plt.tight_layout()\n",
        "plt.show()\n"
      ],
      "metadata": {
        "colab": {
          "base_uri": "https://localhost:8080/",
          "height": 607
        },
        "id": "JIcqBIyl3rX0",
        "outputId": "14378d80-1716-4499-becd-b3ca49b6ef45"
      },
      "execution_count": 828,
      "outputs": [
        {
          "output_type": "display_data",
          "data": {
            "text/plain": [
              "<Figure size 1500x600 with 1 Axes>"
            ],
            "image/png": "[encoded data removed]"
          },
          "metadata": {}
        }
      ]
    },
    {
      "cell_type": "markdown",
      "source": [
        "## Predict"
      ],
      "metadata": {
        "id": "jY0ttiD4y2ox"
      }
    },
    {
      "cell_type": "code",
      "source": [
        "# Load the new Excel dataset\n",
        "new_data = pd.read_excel('/content/drive/My Drive/EM0007/1. Supervised/1. Regression/Assignment 1/multi/data/test housing.xlsx')\n",
        "\n",
        "# Assuming 'size' and 'no. of bedrooms' are the features used in the model\n",
        "new_size = new_data['size'].values\n",
        "new_no_of_bedrooms = new_data['no. of bedrooms'].values\n",
        "\n",
        "# Apply feature normalization using the same mean and std from training data\n",
        "new_size_norm = (new_size - means[0]) / stds[0]\n",
        "new_no_of_bedrooms_norm = (new_no_of_bedrooms - means[1]) / stds[1]\n",
        "\n",
        "# Combine normalized features into a single array for prediction\n",
        "new_features_norm = np.column_stack((new_size_norm, new_no_of_bedrooms_norm))\n",
        "\n",
        "predicted_scaled_prices = model.predict(new_features_norm)  # This is your model's prediction on the scaled features\n",
        "\n",
        "# Apply inverse transformation to get predictions back to original price scale\n",
        "predicted_prices = scaler.inverse_transform(predicted_scaled_prices).flatten()\n",
        "\n",
        "# Update the new data frame with the unscaled predictions\n",
        "new_data['Predicted_Price'] = predicted_prices\n",
        "\n",
        "# Display the dataset with predicted prices\n",
        "print(new_data)\n",
        "\n",
        "# Save the updated dataset back to Excel\n",
        "new_data.to_excel('/content/drive/My Drive/EM0007/1. Supervised/1. Regression/Assignment 1/multi/data/test_housing_with_predictions.xlsx', index=False)\n"
      ],
      "metadata": {
        "id": "DaD03S0fZHTr",
        "colab": {
          "base_uri": "https://localhost:8080/"
        },
        "outputId": "7de11f3a-005e-4ecf-aaba-55163c0bf99b"
      },
      "execution_count": 829,
      "outputs": [
        {
          "output_type": "stream",
          "name": "stdout",
          "text": [
            "1/1 [==============================] - 0s 24ms/step\n",
            "   size  no. of bedrooms  Predicted_Price\n",
            "0  1000                2    201485.078125\n",
            "1  1500                3    277593.375000\n",
            "2  2000                2    316234.000000\n",
            "3  2000                3    352554.281250\n",
            "4  2000                4    289067.531250\n",
            "5  4000                3    610593.437500\n",
            "6  3000                4    566507.937500\n",
            "7  4500                4    603694.500000\n",
            "8  5000                4    685427.750000\n",
            "9  5000                5    649586.375000\n"
          ]
        }
      ]
    },
    {
      "cell_type": "markdown",
      "source": [
        "## Save the Model"
      ],
      "metadata": {
        "id": "BD4OajSVyip-"
      }
    },
    {
      "cell_type": "code",
      "source": [],
      "metadata": {
        "id": "UgVi-JvoZHxr"
      },
      "execution_count": 829,
      "outputs": []
    }
  ]
}